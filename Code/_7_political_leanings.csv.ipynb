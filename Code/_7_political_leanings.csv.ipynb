{
 "cells": [
  {
   "cell_type": "code",
   "execution_count": 5,
   "id": "131aec99",
   "metadata": {},
   "outputs": [],
   "source": [
    "import pandas as pd"
   ]
  },
  {
   "cell_type": "code",
   "execution_count": 6,
   "id": "092c8c36",
   "metadata": {
    "scrolled": false
   },
   "outputs": [
    {
     "data": {
      "text/html": [
       "<div>\n",
       "<style scoped>\n",
       "    .dataframe tbody tr th:only-of-type {\n",
       "        vertical-align: middle;\n",
       "    }\n",
       "\n",
       "    .dataframe tbody tr th {\n",
       "        vertical-align: top;\n",
       "    }\n",
       "\n",
       "    .dataframe thead th {\n",
       "        text-align: right;\n",
       "    }\n",
       "</style>\n",
       "<table border=\"1\" class=\"dataframe\">\n",
       "  <thead>\n",
       "    <tr style=\"text-align: right;\">\n",
       "      <th></th>\n",
       "      <th>author</th>\n",
       "      <th>updated_at</th>\n",
       "      <th>like_count</th>\n",
       "      <th>text</th>\n",
       "      <th>Sentiment_Score</th>\n",
       "      <th>Sentiment_Magnitude</th>\n",
       "      <th>word_segments</th>\n",
       "      <th>pos_results</th>\n",
       "      <th>ner_results</th>\n",
       "    </tr>\n",
       "  </thead>\n",
       "  <tbody>\n",
       "    <tr>\n",
       "      <th>0</th>\n",
       "      <td>@Balababa8</td>\n",
       "      <td>2023-12-30T09:50:17Z</td>\n",
       "      <td>2471</td>\n",
       "      <td>六位超過60歲的家人，在政見會與辯論會後，都確定投下人生第一次投給非藍營的票。由藍轉白，ㄧ切...</td>\n",
       "      <td>0.4</td>\n",
       "      <td>1.4</td>\n",
       "      <td>['六', '位', '超過', '60', '歲', '的', '家人', '，', '在...</td>\n",
       "      <td>['Neu', 'Nf', 'VJ', 'Di', 'Neu', 'Neu', 'Nf', ...</td>\n",
       "      <td>{(4, 7, 'DATE', '60歲'), (61, 64, 'PERSON', '柯文...</td>\n",
       "    </tr>\n",
       "    <tr>\n",
       "      <th>1</th>\n",
       "      <td>@jingxiangxu8918</td>\n",
       "      <td>2023-12-30T12:42:04Z</td>\n",
       "      <td>2215</td>\n",
       "      <td>並不是當上總統才能得到人民的認同，而是得到人民的認同的人才有資格當總統。</td>\n",
       "      <td>0.1</td>\n",
       "      <td>0.1</td>\n",
       "      <td>['並', '不', '是', '當上', '總統', '才', '能', '得到', '人...</td>\n",
       "      <td>['D', 'D', 'SHI', 'P', 'Ncd', 'D', 'VHC', 'Da'...</td>\n",
       "      <td>set()</td>\n",
       "    </tr>\n",
       "    <tr>\n",
       "      <th>2</th>\n",
       "      <td>@4289qwert</td>\n",
       "      <td>2023-12-30T13:01:27Z</td>\n",
       "      <td>2105</td>\n",
       "      <td>我原本不是柯粉，但看完這場辯論會讓我清楚的知道，臺灣要改變跟進步，必須投柯文哲。</td>\n",
       "      <td>0.4</td>\n",
       "      <td>0.4</td>\n",
       "      <td>['我', '原本', '不', '是', '柯粉', '，', '但', '看完', '這...</td>\n",
       "      <td>['Nh', 'D', 'D', 'D', 'SHI', 'Nb', 'Na', 'COMM...</td>\n",
       "      <td>{(36, 39, 'PERSON', '柯文哲'), (24, 26, 'GPE', '臺...</td>\n",
       "    </tr>\n",
       "    <tr>\n",
       "      <th>3</th>\n",
       "      <td>@damian561</td>\n",
       "      <td>2023-12-30T08:50:35Z</td>\n",
       "      <td>1689</td>\n",
       "      <td>侯友宜今天的表現很明顯了，他支援棄侯保柯來達成政黨輪替，侯侯是國民黨最後的良心</td>\n",
       "      <td>0.8</td>\n",
       "      <td>0.8</td>\n",
       "      <td>['侯友宜', '今天', '的', '表現', '很', '明顯', '了', '，', ...</td>\n",
       "      <td>['Nb', 'Na', 'D', 'Nd', 'Na', 'DE', 'Na', 'D',...</td>\n",
       "      <td>{(17, 20, 'PERSON', '侯保柯'), (0, 1, 'PERSON', '...</td>\n",
       "    </tr>\n",
       "    <tr>\n",
       "      <th>4</th>\n",
       "      <td>@sirw231</td>\n",
       "      <td>2023-12-30T10:53:55Z</td>\n",
       "      <td>1488</td>\n",
       "      <td>有沒有做功課，有沒有為臺灣好的心，是驢是馬真的拉出來一看便知，我已經知道選誰才對得起自己的良...</td>\n",
       "      <td>0.7</td>\n",
       "      <td>0.7</td>\n",
       "      <td>['有沒有', '做', '功課', '，', '有沒有', '為', '臺灣', '好',...</td>\n",
       "      <td>['V_2', 'D', 'V_2', 'VC', 'Na', 'Na', 'COMMACA...</td>\n",
       "      <td>set()</td>\n",
       "    </tr>\n",
       "    <tr>\n",
       "      <th>...</th>\n",
       "      <td>...</td>\n",
       "      <td>...</td>\n",
       "      <td>...</td>\n",
       "      <td>...</td>\n",
       "      <td>...</td>\n",
       "      <td>...</td>\n",
       "      <td>...</td>\n",
       "      <td>...</td>\n",
       "      <td>...</td>\n",
       "    </tr>\n",
       "    <tr>\n",
       "      <th>4561</th>\n",
       "      <td>@AsAs-mb4gc</td>\n",
       "      <td>2023-12-31T14:45:13Z</td>\n",
       "      <td>0</td>\n",
       "      <td>讚，說的真好。</td>\n",
       "      <td>0.9</td>\n",
       "      <td>0.9</td>\n",
       "      <td>['讚', '，', '說', '的', '真', '好', '。']</td>\n",
       "      <td>['VC', 'COMMACATEGORY', 'VE', 'DE', 'D', 'VH',...</td>\n",
       "      <td>set()</td>\n",
       "    </tr>\n",
       "    <tr>\n",
       "      <th>4562</th>\n",
       "      <td>@chengong999</td>\n",
       "      <td>2023-12-31T15:27:21Z</td>\n",
       "      <td>0</td>\n",
       "      <td>賴副0太棒太棒了!加油!為臺灣.前進</td>\n",
       "      <td>0.4</td>\n",
       "      <td>2.2</td>\n",
       "      <td>['賴', '副', '0', '太', '棒', '太', '棒', '了', '!', ...</td>\n",
       "      <td>['VK', 'Nf', 'Neu', 'Dfa', 'VH', 'Dfa', 'VH', ...</td>\n",
       "      <td>{(0, 1, 'PERSON', '賴'), (13, 15, 'GPE', '臺灣'),...</td>\n",
       "    </tr>\n",
       "    <tr>\n",
       "      <th>4563</th>\n",
       "      <td>@cantaloupevlog</td>\n",
       "      <td>2023-12-30T13:10:45Z</td>\n",
       "      <td>0</td>\n",
       "      <td>賴副總統，你的政論發表，講的太好了，我們都挺你也會投票給你，也會幫你拉票喔，加油</td>\n",
       "      <td>0.9</td>\n",
       "      <td>0.9</td>\n",
       "      <td>['賴', '副總統', '，', '你', '的', '政論', '發表', '，', '...</td>\n",
       "      <td>['VA', 'Nf', 'D', 'VHC', 'COMMACATEGORY', 'Nh'...</td>\n",
       "      <td>{(0, 1, 'PERSON', '賴')}</td>\n",
       "    </tr>\n",
       "    <tr>\n",
       "      <th>4564</th>\n",
       "      <td>@cng8270</td>\n",
       "      <td>2023-12-31T15:43:12Z</td>\n",
       "      <td>0</td>\n",
       "      <td>賴副總統，你今天辦論會給你100分也未來總統領導臺灣，加油，加油。</td>\n",
       "      <td>0.7</td>\n",
       "      <td>0.7</td>\n",
       "      <td>['賴', '副總統', '，', '你', '今天', '辦論', '會', '給', '...</td>\n",
       "      <td>['VA', 'Nf', 'D', 'VHC', 'COMMACATEGORY', 'Nh'...</td>\n",
       "      <td>{(0, 1, 'PERSON', '賴'), (13, 16, 'CARDINAL', '...</td>\n",
       "    </tr>\n",
       "    <tr>\n",
       "      <th>4565</th>\n",
       "      <td>@HolleyaKulp</td>\n",
       "      <td>2024-01-21T00:03:47Z</td>\n",
       "      <td>0</td>\n",
       "      <td>看完後感覺只剩柯文哲能投了</td>\n",
       "      <td>-0.5</td>\n",
       "      <td>0.5</td>\n",
       "      <td>['看完', '後', '感覺', '只', '剩', '柯文哲', '能', '投', '了']</td>\n",
       "      <td>['VC', 'VH', 'Ng', 'VK', 'Na', 'Da', 'VJ', 'Nb...</td>\n",
       "      <td>{(7, 10, 'PERSON', '柯文哲')}</td>\n",
       "    </tr>\n",
       "  </tbody>\n",
       "</table>\n",
       "<p>4566 rows × 9 columns</p>\n",
       "</div>"
      ],
      "text/plain": [
       "                author            updated_at  like_count  \\\n",
       "0           @Balababa8  2023-12-30T09:50:17Z        2471   \n",
       "1     @jingxiangxu8918  2023-12-30T12:42:04Z        2215   \n",
       "2           @4289qwert  2023-12-30T13:01:27Z        2105   \n",
       "3           @damian561  2023-12-30T08:50:35Z        1689   \n",
       "4             @sirw231  2023-12-30T10:53:55Z        1488   \n",
       "...                ...                   ...         ...   \n",
       "4561       @AsAs-mb4gc  2023-12-31T14:45:13Z           0   \n",
       "4562      @chengong999  2023-12-31T15:27:21Z           0   \n",
       "4563   @cantaloupevlog  2023-12-30T13:10:45Z           0   \n",
       "4564          @cng8270  2023-12-31T15:43:12Z           0   \n",
       "4565      @HolleyaKulp  2024-01-21T00:03:47Z           0   \n",
       "\n",
       "                                                   text  Sentiment_Score  \\\n",
       "0     六位超過60歲的家人，在政見會與辯論會後，都確定投下人生第一次投給非藍營的票。由藍轉白，ㄧ切...              0.4   \n",
       "1                  並不是當上總統才能得到人民的認同，而是得到人民的認同的人才有資格當總統。              0.1   \n",
       "2              我原本不是柯粉，但看完這場辯論會讓我清楚的知道，臺灣要改變跟進步，必須投柯文哲。              0.4   \n",
       "3               侯友宜今天的表現很明顯了，他支援棄侯保柯來達成政黨輪替，侯侯是國民黨最後的良心              0.8   \n",
       "4     有沒有做功課，有沒有為臺灣好的心，是驢是馬真的拉出來一看便知，我已經知道選誰才對得起自己的良...              0.7   \n",
       "...                                                 ...              ...   \n",
       "4561                                            讚，說的真好。              0.9   \n",
       "4562                                 賴副0太棒太棒了!加油!為臺灣.前進              0.4   \n",
       "4563           賴副總統，你的政論發表，講的太好了，我們都挺你也會投票給你，也會幫你拉票喔，加油              0.9   \n",
       "4564                  賴副總統，你今天辦論會給你100分也未來總統領導臺灣，加油，加油。              0.7   \n",
       "4565                                      看完後感覺只剩柯文哲能投了             -0.5   \n",
       "\n",
       "      Sentiment_Magnitude                                      word_segments  \\\n",
       "0                     1.4  ['六', '位', '超過', '60', '歲', '的', '家人', '，', '在...   \n",
       "1                     0.1  ['並', '不', '是', '當上', '總統', '才', '能', '得到', '人...   \n",
       "2                     0.4  ['我', '原本', '不', '是', '柯粉', '，', '但', '看完', '這...   \n",
       "3                     0.8  ['侯友宜', '今天', '的', '表現', '很', '明顯', '了', '，', ...   \n",
       "4                     0.7  ['有沒有', '做', '功課', '，', '有沒有', '為', '臺灣', '好',...   \n",
       "...                   ...                                                ...   \n",
       "4561                  0.9                ['讚', '，', '說', '的', '真', '好', '。']   \n",
       "4562                  2.2  ['賴', '副', '0', '太', '棒', '太', '棒', '了', '!', ...   \n",
       "4563                  0.9  ['賴', '副總統', '，', '你', '的', '政論', '發表', '，', '...   \n",
       "4564                  0.7  ['賴', '副總統', '，', '你', '今天', '辦論', '會', '給', '...   \n",
       "4565                  0.5  ['看完', '後', '感覺', '只', '剩', '柯文哲', '能', '投', '了']   \n",
       "\n",
       "                                            pos_results  \\\n",
       "0     ['Neu', 'Nf', 'VJ', 'Di', 'Neu', 'Neu', 'Nf', ...   \n",
       "1     ['D', 'D', 'SHI', 'P', 'Ncd', 'D', 'VHC', 'Da'...   \n",
       "2     ['Nh', 'D', 'D', 'D', 'SHI', 'Nb', 'Na', 'COMM...   \n",
       "3     ['Nb', 'Na', 'D', 'Nd', 'Na', 'DE', 'Na', 'D',...   \n",
       "4     ['V_2', 'D', 'V_2', 'VC', 'Na', 'Na', 'COMMACA...   \n",
       "...                                                 ...   \n",
       "4561  ['VC', 'COMMACATEGORY', 'VE', 'DE', 'D', 'VH',...   \n",
       "4562  ['VK', 'Nf', 'Neu', 'Dfa', 'VH', 'Dfa', 'VH', ...   \n",
       "4563  ['VA', 'Nf', 'D', 'VHC', 'COMMACATEGORY', 'Nh'...   \n",
       "4564  ['VA', 'Nf', 'D', 'VHC', 'COMMACATEGORY', 'Nh'...   \n",
       "4565  ['VC', 'VH', 'Ng', 'VK', 'Na', 'Da', 'VJ', 'Nb...   \n",
       "\n",
       "                                            ner_results  \n",
       "0     {(4, 7, 'DATE', '60歲'), (61, 64, 'PERSON', '柯文...  \n",
       "1                                                 set()  \n",
       "2     {(36, 39, 'PERSON', '柯文哲'), (24, 26, 'GPE', '臺...  \n",
       "3     {(17, 20, 'PERSON', '侯保柯'), (0, 1, 'PERSON', '...  \n",
       "4                                                 set()  \n",
       "...                                                 ...  \n",
       "4561                                              set()  \n",
       "4562  {(0, 1, 'PERSON', '賴'), (13, 15, 'GPE', '臺灣'),...  \n",
       "4563                            {(0, 1, 'PERSON', '賴')}  \n",
       "4564  {(0, 1, 'PERSON', '賴'), (13, 16, 'CARDINAL', '...  \n",
       "4565                         {(7, 10, 'PERSON', '柯文哲')}  \n",
       "\n",
       "[4566 rows x 9 columns]"
      ]
     },
     "execution_count": 6,
     "metadata": {},
     "output_type": "execute_result"
    }
   ],
   "source": [
    "df=pd.read_csv('C:/Users/blues/Desktop/Projects/2024TWPresidentialDebateAnalysis/All_CSV/final_dataset.csv')\n",
    "df"
   ]
  },
  {
   "cell_type": "code",
   "execution_count": 3,
   "id": "1b532fd0",
   "metadata": {},
   "outputs": [
    {
     "data": {
      "text/plain": [
       "author                  object\n",
       "updated_at              object\n",
       "like_count               int64\n",
       "text                    object\n",
       "Sentiment_Score        float64\n",
       "Sentiment_Magnitude    float64\n",
       "word_segments           object\n",
       "pos_results             object\n",
       "ner_results             object\n",
       "dtype: object"
      ]
     },
     "execution_count": 3,
     "metadata": {},
     "output_type": "execute_result"
    }
   ],
   "source": [
    "df.dtypes"
   ]
  },
  {
   "cell_type": "code",
   "execution_count": 6,
   "id": "0bd947ab",
   "metadata": {},
   "outputs": [
    {
     "name": "stdout",
     "output_type": "stream",
     "text": [
      "-41.1000077649951\n",
      "-0.009001315761058936\n"
     ]
    }
   ],
   "source": [
    "total_sentiment=df['Sentiment_Score'].sum()\n",
    "each_sentiment=(total_sentiment/len(df))\n",
    "print(total_sentiment)\n",
    "print(each_sentiment)"
   ]
  },
  {
   "cell_type": "code",
   "execution_count": 8,
   "id": "efb15eae",
   "metadata": {},
   "outputs": [
    {
     "name": "stdout",
     "output_type": "stream",
     "text": [
      "4019.1000052541494\n",
      "0.8802233914266644\n"
     ]
    }
   ],
   "source": [
    "total_sentiment=df['Sentiment_Magnitude'].sum()\n",
    "each_sentiment=(total_sentiment/len(df))\n",
    "print(total_sentiment)\n",
    "print(each_sentiment)"
   ]
  },
  {
   "cell_type": "code",
   "execution_count": 40,
   "id": "e4ab41bc",
   "metadata": {
    "scrolled": true
   },
   "outputs": [
    {
     "name": "stdout",
     "output_type": "stream",
     "text": [
      "1820\n",
      "2071\n",
      "675\n"
     ]
    }
   ],
   "source": [
    "pos=0\n",
    "neg=0\n",
    "neu=0\n",
    "for index, row in df.iterrows():\n",
    "    if (row['Sentiment_Score'] > 0.0):\n",
    "        pos+=1\n",
    "    elif (row['Sentiment_Score'] < 0.0):\n",
    "        neg+=1\n",
    "    else:\n",
    "        neu+=1\n",
    "print(pos)\n",
    "print(neg)\n",
    "print(neu)"
   ]
  },
  {
   "cell_type": "code",
   "execution_count": 47,
   "id": "838adff3",
   "metadata": {},
   "outputs": [],
   "source": [
    "party_1=['柯文哲', '柯', '吳欣盈', '吳', '阿北', '阿伯', '保柯', '柯吳',\n",
    "         '白', '白營', '侯保柯', '民眾黨', '投柯', '柯粉', '1', '1號', '柯P',\n",
    "        '侯柯', '柯文哲柯', '賴柯', '柯阿北', '謝謝柯']\n",
    "party_2=['賴清德', '賴', '清德', '德', '蕭美琴', '賴蕭', '蕭', '美德',\n",
    "         '美德配', '綠', '綠營', '民進黨', '賴皮', '賴皮寮', '賴皮德',\n",
    "         '功德', '2', '2號', '賴功德', '賴柯', '賴缺德', '賴桑']\n",
    "party_3=['侯友宜', '侯', '趙少康', '趙', '侯康', '好康', '保康', '藍',\n",
    "         '藍營', '國民黨', '3', '侯侯', '侯保柯', '侯柯', '中國國民黨']\n",
    "\n",
    "party1=set(party_1)\n",
    "party2=set(party_2)\n",
    "party3=set(party_3)"
   ]
  },
  {
   "cell_type": "code",
   "execution_count": 57,
   "id": "f201df66",
   "metadata": {},
   "outputs": [
    {
     "name": "stdout",
     "output_type": "stream",
     "text": [
      "2007\n",
      "POS: 892\n",
      "NEG: 774\n",
      "NEU: 341\n"
     ]
    }
   ],
   "source": [
    "df1=df\n",
    "count=0\n",
    "for index, row in df1.iterrows():\n",
    "    text=set(row['word_segments'])\n",
    "    intersect=text.intersection(party1)\n",
    "    if not intersect:\n",
    "        df1=df1.drop([index])\n",
    "    else:\n",
    "        count+=1\n",
    "print(count)\n",
    "\n",
    "pos=0\n",
    "neg=0\n",
    "neu=0\n",
    "for index, row in df1.iterrows():\n",
    "    if (row['Sentiment_Score'] > 0.0):\n",
    "        pos+=1\n",
    "    elif (row['Sentiment_Score'] < 0.0):\n",
    "        neg+=1\n",
    "    else:\n",
    "        neu+=1\n",
    "print('POS:',pos)\n",
    "print('NEG:',neg)\n",
    "print('NEU:',neu)"
   ]
  },
  {
   "cell_type": "code",
   "execution_count": 58,
   "id": "c50b231c",
   "metadata": {},
   "outputs": [
    {
     "name": "stdout",
     "output_type": "stream",
     "text": [
      "1888\n",
      "POS: 683\n",
      "NEG: 915\n",
      "NEU: 290\n"
     ]
    }
   ],
   "source": [
    "df2=df\n",
    "count2=0\n",
    "for index, row in df2.iterrows():\n",
    "    text=set(row['word_segments'])\n",
    "    intersect=text.intersection(party2)\n",
    "    if not intersect:\n",
    "        df2=df2.drop([index])\n",
    "    else:\n",
    "        count2+=1\n",
    "print(count2)\n",
    "\n",
    "pos=0\n",
    "neg=0\n",
    "neu=0\n",
    "for index, row in df2.iterrows():\n",
    "    if (row['Sentiment_Score'] > 0.0):\n",
    "        pos+=1\n",
    "    elif (row['Sentiment_Score'] < 0.0):\n",
    "        neg+=1\n",
    "    else:\n",
    "        neu+=1\n",
    "print('POS:',pos)\n",
    "print('NEG:',neg)\n",
    "print('NEU:',neu)"
   ]
  },
  {
   "cell_type": "code",
   "execution_count": 59,
   "id": "f883a300",
   "metadata": {},
   "outputs": [
    {
     "name": "stdout",
     "output_type": "stream",
     "text": [
      "1358\n",
      "POS: 440\n",
      "NEG: 697\n",
      "NEU: 221\n"
     ]
    }
   ],
   "source": [
    "df3=df\n",
    "count3=0\n",
    "for index, row in df3.iterrows():\n",
    "    text=set(row['word_segments'])\n",
    "    intersect=text.intersection(party3)\n",
    "    if not intersect:\n",
    "        df3=df3.drop([index])\n",
    "    else:\n",
    "        count3+=1\n",
    "print(count3)\n",
    "\n",
    "pos=0\n",
    "neg=0\n",
    "neu=0\n",
    "for index, row in df3.iterrows():\n",
    "    if (row['Sentiment_Score'] > 0.0):\n",
    "        pos+=1\n",
    "    elif (row['Sentiment_Score'] < 0.0):\n",
    "        neg+=1\n",
    "    else:\n",
    "        neu+=1\n",
    "print('POS:',pos)\n",
    "print('NEG:',neg)\n",
    "print('NEU:',neu)"
   ]
  },
  {
   "cell_type": "code",
   "execution_count": 35,
   "id": "91ec2d94",
   "metadata": {},
   "outputs": [
    {
     "name": "stdout",
     "output_type": "stream",
     "text": [
      "111.79999761283398\n",
      "0.024485325802197543\n"
     ]
    }
   ],
   "source": [
    "total_sentiment=df1['Sentiment_Score'].sum()\n",
    "each_sentiment=(total_sentiment/len(df))\n",
    "print(total_sentiment)\n",
    "print(each_sentiment)"
   ]
  },
  {
   "cell_type": "code",
   "execution_count": 36,
   "id": "b62b4345",
   "metadata": {},
   "outputs": [
    {
     "name": "stdout",
     "output_type": "stream",
     "text": [
      "-99.00000208616257\n",
      "-0.021681997828769724\n"
     ]
    }
   ],
   "source": [
    "total_sentiment=df2['Sentiment_Score'].sum()\n",
    "each_sentiment=(total_sentiment/len(df))\n",
    "print(total_sentiment)\n",
    "print(each_sentiment)"
   ]
  },
  {
   "cell_type": "code",
   "execution_count": 37,
   "id": "6b4fdcdb",
   "metadata": {},
   "outputs": [
    {
     "name": "stdout",
     "output_type": "stream",
     "text": [
      "-94.70000223815441\n",
      "-0.02074025454186474\n"
     ]
    }
   ],
   "source": [
    "total_sentiment=df3['Sentiment_Score'].sum()\n",
    "each_sentiment=(total_sentiment/len(df))\n",
    "print(total_sentiment)\n",
    "print(each_sentiment)"
   ]
  }
 ],
 "metadata": {
  "kernelspec": {
   "display_name": "Python 3 (ipykernel)",
   "language": "python",
   "name": "python3"
  },
  "language_info": {
   "codemirror_mode": {
    "name": "ipython",
    "version": 3
   },
   "file_extension": ".py",
   "mimetype": "text/x-python",
   "name": "python",
   "nbconvert_exporter": "python",
   "pygments_lexer": "ipython3",
   "version": "3.11.5"
  }
 },
 "nbformat": 4,
 "nbformat_minor": 5
}
